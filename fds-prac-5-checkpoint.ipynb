{
 "cells": [
  {
   "cell_type": "code",
   "execution_count": 10,
   "id": "9a87290e",
   "metadata": {},
   "outputs": [
    {
     "name": "stdout",
     "output_type": "stream",
     "text": [
      "enter words: hi hello ped\n",
      "['hi', 'hello', 'ped']\n",
      "The longest word in the list is hello with length 5\n",
      "3\n",
      "8\n",
      "4\n"
     ]
    }
   ],
   "source": [
    "word=[(n) for n in input(\"enter words: \").split()]\n",
    "print(word)\n",
    "l=0\n",
    "for i in (word):\n",
    "    if len(i)>l:\n",
    "        l=len (i)\n",
    "        long=i      \n",
    "print(f\"The longest word in the list is {long} with length {l}\")\n",
    "\n",
    "for i in word:\n",
    "    count=1\n",
    "    for j in i:\n",
    "        for k in i:\n",
    "            if k==j:\n",
    "                count+=1\n",
    "    print(count)\n",
    "                "
   ]
  },
  {
   "cell_type": "code",
   "execution_count": 15,
   "id": "40eaf7fa",
   "metadata": {},
   "outputs": [
    {
     "name": "stdout",
     "output_type": "stream",
     "text": [
      "enter a word: dad\n"
     ]
    }
   ],
   "source": [
    "a=str(input(\"enter a word: \"))\n",
    "i=0\n",
    "j=-1\n",
    "for i in a:\n",
    "    if i!=j:\n",
    "        flag=0\n",
    "        if i==j:\n",
    "            j+=1\n",
    "            print(\"yes\")\n",
    "        else:\n",
    "            break\n",
    "        "
   ]
  },
  {
   "cell_type": "code",
   "execution_count": 9,
   "id": "e4cb23c2",
   "metadata": {},
   "outputs": [
    {
     "name": "stdout",
     "output_type": "stream",
     "text": [
      "enter your desired size of matrix1: 2\n",
      "enter elements: 1\n",
      "enter elements: 2\n",
      "enter elements: 3\n",
      "enter elements: 4\n",
      "[[1, 2], [3, 4]]\n",
      "enter elements: 5\n",
      "enter elements: 6\n",
      "enter elements: 7\n",
      "enter elements: 8\n",
      "[[5, 6], [7, 8]]\n"
     ]
    },
    {
     "ename": "TypeError",
     "evalue": "list indices must be integers or slices, not list",
     "output_type": "error",
     "traceback": [
      "\u001b[1;31m---------------------------------------------------------------------------\u001b[0m",
      "\u001b[1;31mTypeError\u001b[0m                                 Traceback (most recent call last)",
      "\u001b[1;32m<ipython-input-9-ea46d10456eb>\u001b[0m in \u001b[0;36m<module>\u001b[1;34m\u001b[0m\n\u001b[0;32m     23\u001b[0m \u001b[1;32mfor\u001b[0m \u001b[0mi\u001b[0m \u001b[1;32min\u001b[0m \u001b[0mrange\u001b[0m\u001b[1;33m(\u001b[0m\u001b[0mn\u001b[0m\u001b[1;33m)\u001b[0m\u001b[1;33m:\u001b[0m\u001b[1;33m\u001b[0m\u001b[1;33m\u001b[0m\u001b[0m\n\u001b[0;32m     24\u001b[0m     \u001b[1;32mfor\u001b[0m \u001b[0mi\u001b[0m \u001b[1;32min\u001b[0m \u001b[0mmatrix1\u001b[0m \u001b[1;32mand\u001b[0m \u001b[0mmatrix2\u001b[0m\u001b[1;33m:\u001b[0m\u001b[1;33m\u001b[0m\u001b[1;33m\u001b[0m\u001b[0m\n\u001b[1;32m---> 25\u001b[1;33m         \u001b[0madd\u001b[0m\u001b[1;33m=\u001b[0m\u001b[0mmatrix1\u001b[0m\u001b[1;33m[\u001b[0m\u001b[0mi\u001b[0m\u001b[1;33m[\u001b[0m\u001b[0mi\u001b[0m\u001b[1;33m]\u001b[0m\u001b[1;33m]\u001b[0m\u001b[1;33m+\u001b[0m\u001b[0mmatrix2\u001b[0m\u001b[1;33m[\u001b[0m\u001b[0mi\u001b[0m\u001b[1;33m[\u001b[0m\u001b[0mi\u001b[0m\u001b[1;33m]\u001b[0m\u001b[1;33m]\u001b[0m\u001b[1;33m\u001b[0m\u001b[1;33m\u001b[0m\u001b[0m\n\u001b[0m\u001b[0;32m     26\u001b[0m         \u001b[0madd_of_mat\u001b[0m\u001b[1;33m.\u001b[0m\u001b[0mappend\u001b[0m\u001b[1;33m(\u001b[0m\u001b[0madd\u001b[0m\u001b[1;33m)\u001b[0m\u001b[1;33m\u001b[0m\u001b[1;33m\u001b[0m\u001b[0m\n\u001b[0;32m     27\u001b[0m \u001b[0mprint\u001b[0m\u001b[1;33m(\u001b[0m\u001b[0madd_of_mat\u001b[0m\u001b[1;33m)\u001b[0m\u001b[1;33m\u001b[0m\u001b[1;33m\u001b[0m\u001b[0m\n",
      "\u001b[1;31mTypeError\u001b[0m: list indices must be integers or slices, not list"
     ]
    }
   ],
   "source": [
    "n=int(input(\"enter your desired size of matrix1: \"))\n",
    "matrix1=[]\n",
    "for i in range (n):\n",
    "    a=[]\n",
    "    for i in range (n):\n",
    "        el=int(input(\"enter elements: \"))\n",
    "        a.append(el)\n",
    "    matrix1.append(a)\n",
    "print(matrix1)\n",
    "\n",
    "matrix2=[]\n",
    "for i in range (n):\n",
    "    a=[]\n",
    "    for i in range (n):\n",
    "        el=int(input(\"enter elements: \"))\n",
    "        a.append(el)\n",
    "    matrix2.append(a)\n",
    "print(matrix2)\n",
    "\n",
    "# addition \n",
    "\n",
    "add_of_mat=[]\n",
    "for i in range(n):\n",
    "    for i in matrix1 and matrix2:\n",
    "        add=matrix1[i[i]]+matrix2[i[i]]\n",
    "        add_of_mat.append(add)\n",
    "print(add_of_mat)"
   ]
  },
  {
   "cell_type": "code",
   "execution_count": null,
   "id": "10bf879e",
   "metadata": {},
   "outputs": [],
   "source": []
  }
 ],
 "metadata": {
  "kernelspec": {
   "display_name": "Python 3",
   "language": "python",
   "name": "python3"
  },
  "language_info": {
   "codemirror_mode": {
    "name": "ipython",
    "version": 3
   },
   "file_extension": ".py",
   "mimetype": "text/x-python",
   "name": "python",
   "nbconvert_exporter": "python",
   "pygments_lexer": "ipython3",
   "version": "3.8.8"
  }
 },
 "nbformat": 4,
 "nbformat_minor": 5
}
