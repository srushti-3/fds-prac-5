{
 "cells": [
  {
   "cell_type": "code",
   "execution_count": null,
   "id": "9a87290e",
   "metadata": {},
   "outputs": [],
   "source": [
    "word=[(n) for n in input(\"enter words: \").split()]\n",
    "print(word)\n",
    "l=0\n",
    "for i in (word):\n",
    "    if len(i)>l:\n",
    "        l=len (i)\n",
    "        long=i      \n",
    "print(f\"The longest word in the list is {long} with length {l}\")\n",
    "\n",
    "for i in word:\n",
    "    count=1\n",
    "    for j in i:\n",
    "        for k in i:\n",
    "            if k==j:\n",
    "                count+=1\n",
    "    print(count)\n",
    "                "
   ]
  },
  {
   "cell_type": "code",
   "execution_count": null,
   "id": "e4cb23c2",
   "metadata": {},
   "outputs": [],
   "source": [
    "n=int(input(\"enter your desired size of matrix1: \"))\n",
    "matrix1=[]\n",
    "for i in range (n):\n",
    "    a=[]\n",
    "    for i in range (n):\n",
    "        el=int(input(\"enter elements: \"))\n",
    "        a.append(el)\n",
    "    matrix1.append(a)\n",
    "print(matrix1)\n",
    "\n",
    "matrix2=[]\n",
    "for i in range (n):\n",
    "    a=[]\n",
    "    for i in range (n):\n",
    "        el=int(input(\"enter elements: \"))\n",
    "        a.append(el)\n",
    "    matrix2.append(a)\n",
    "print(matrix2)\n",
    "\n",
    "# addition \n",
    "\n",
    "add_of_mat=[]\n",
    "for i in range(n):\n",
    "    for i in matrix1 and matrix2:\n",
    "        add=matrix1[i[i]]+matrix2[i[i]]\n",
    "        add_of_mat.append(add)\n",
    "print(add_of_mat)"
   ]
  },
  {
   "cell_type": "code",
   "execution_count": null,
   "id": "10bf879e",
   "metadata": {},
   "outputs": [],
   "source": []
  }
 ],
 "metadata": {
  "kernelspec": {
   "display_name": "Python 3",
   "language": "python",
   "name": "python3"
  },
  "language_info": {
   "codemirror_mode": {
    "name": "ipython",
    "version": 3
   },
   "file_extension": ".py",
   "mimetype": "text/x-python",
   "name": "python",
   "nbconvert_exporter": "python",
   "pygments_lexer": "ipython3",
   "version": "3.8.8"
  }
 },
 "nbformat": 4,
 "nbformat_minor": 5
}
